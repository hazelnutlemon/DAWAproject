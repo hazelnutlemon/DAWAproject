{
 "cells": [
  {
   "cell_type": "code",
   "execution_count": 2,
   "metadata": {},
   "outputs": [
    {
     "name": "stdout",
     "output_type": "stream",
     "text": [
      "Id=id : Name=document\n",
      "Id=9976970 : Name=아 더빙.. 진짜 짜증나네요 목소리\n",
      "Id=3819312 : Name=흠...포스터보고 초딩영화줄....오버연기조차 가볍지 않구나\n"
     ]
    }
   ],
   "source": [
    "# 분석할 데이터 하나 필요\n",
    "#하나씩 받아서 용언분석기 돌리고 그게 verb인지, adject인지 판단하면 되지않나?\n",
    "import csv\n",
    "\n",
    "f = open('ratings_train.txt', 'r', encoding='utf-8')\n",
    "rdr = csv.reader(f, delimiter='\\t')\n",
    "r = list(rdr)\n",
    "print(\"Id=%s : Name=%s\" % (r[0][0], r[0][1]))\n",
    "print(\"Id=%s : Name=%s\" % (r[1][0], r[1][1]))\n",
    "print(\"Id=%s : Name=%s\" % (r[2][0], r[2][1]))\n",
    "\n",
    "f.close()"
   ]
  },
  {
   "cell_type": "code",
   "execution_count": 14,
   "metadata": {},
   "outputs": [
    {
     "name": "stdout",
     "output_type": "stream",
     "text": [
      "Word2Vec Modeling finished\n"
     ]
    }
   ],
   "source": [
    "import csv\n",
    "from konlpy.tag import Okt\n",
    "from gensim.models import word2vec\n",
    "\n",
    "#네이버 영화 코퍼스를 읽는다.\n",
    "f = open('ratings_train.txt', 'r', encoding='utf-8')\n",
    "rdr = csv.reader(f, delimiter='\\t') #delimiter를 .으로 바꿀것\n",
    "rdw = list(rdr)\n",
    "f.close()\n",
    "\n",
    "\"\"\"\n",
    "f = open(\"practice.txt\", 'r',encoding='utf-8')\n",
    "data = f.read().split('.').replace('\\n','')\n",
    "print(data)\n",
    "f.close()\n",
    "\"\"\"\n",
    "\n",
    "#트위터 형태소 분석기를 로드한다. Twiter가 KoNLPy v0.4.5 부터 Okt로 변경 되었다.\n",
    "twitter = Okt()\n",
    "\n",
    "#텍스트를 한줄씩 처리합니다.\n",
    "result = []\n",
    "for line in rdw:\n",
    "#형태소 분석하기, 단어 기본형 사용\n",
    "    malist = twitter.pos( line[1], norm=True, stem=True)\n",
    "    r = []\n",
    "    for word in malist:\n",
    "     #Josa”, “Eomi”, “'Punctuation” 는 제외하고 처리\n",
    "        #if not word[1] in [\"Josa\",\"Eomi\",\"Punctuation\"]:\n",
    "        if word[1] in [\"Noun\",\"Adjective\"]:\n",
    "            r.append(word[0])\n",
    " #형태소 사이에 공백 \" \"  을 넣습니다. 그리고 양쪽 공백을 지웁니다.\n",
    "    rl = (\" \".join(r)).strip()\n",
    "    result.append(rl)\n",
    " #print(rl)\n",
    "\n",
    "#형태소들을 별도의 파일로 저장 합니다.\n",
    "with open(\"NaverMovie.nlp\",'w', encoding='utf-8') as fp:\n",
    "    fp.write(\"\\n\".join(result))\n",
    "\n",
    "#Word2Vec 모델 만들기\n",
    "wData = word2vec.LineSentence(\"NaverMovie.nlp\")\n",
    "wModel =word2vec.Word2Vec(wData, size=200, window=10, hs=1, min_count=2, sg=1)\n",
    "wModel.save(\"NaverMovie.model\")\n",
    "print(\"Word2Vec Modeling finished\")"
   ]
  },
  {
   "cell_type": "code",
   "execution_count": 24,
   "metadata": {},
   "outputs": [
    {
     "name": "stdout",
     "output_type": "stream",
     "text": [
      "건장하다\n",
      "흉하다\n",
      "유별나다\n",
      "미적지근하다\n",
      "전지전능하다\n"
     ]
    },
    {
     "name": "stderr",
     "output_type": "stream",
     "text": [
      "C:\\Users\\naruk\\anaconda3\\lib\\site-packages\\ipykernel_launcher.py:9: DeprecationWarning: Call to deprecated `most_similar` (Method will be removed in 4.0.0, use self.wv.most_similar() instead).\n",
      "  if __name__ == '__main__':\n"
     ]
    }
   ],
   "source": [
    "from gensim.models import word2vec\n",
    "from konlpy.tag import Okt\n",
    "\n",
    "twitter = Okt()\n",
    "\n",
    "model = word2vec.Word2Vec.load(\"NaverMovie.model\")\n",
    "count=0\n",
    "model_list=[]\n",
    "model_list=model.most_similar(positive=[\"주인공\"],topn=300)\n",
    "\n",
    "for i in range(len(model_list)):\n",
    "    temp_list=twitter.pos(model_list[i][0], norm=True, stem=True)\n",
    "    if(temp_list[0][1]=='Adjective'):\n",
    "        print(temp_list[0][0])\n",
    "        count+=1\n",
    "    \n",
    "    if(count==5):\n",
    "        break"
   ]
  },
  {
   "cell_type": "code",
   "execution_count": null,
   "metadata": {},
   "outputs": [],
   "source": [
    "pip install gensim"
   ]
  }
 ],
 "metadata": {
  "kernelspec": {
   "display_name": "Python 3",
   "language": "python",
   "name": "python3"
  },
  "language_info": {
   "codemirror_mode": {
    "name": "ipython",
    "version": 3
   },
   "file_extension": ".py",
   "mimetype": "text/x-python",
   "name": "python",
   "nbconvert_exporter": "python",
   "pygments_lexer": "ipython3",
   "version": "3.7.6"
  }
 },
 "nbformat": 4,
 "nbformat_minor": 4
}
