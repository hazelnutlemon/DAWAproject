{
 "cells": [
  {
   "cell_type": "code",
   "execution_count": 2,
   "metadata": {},
   "outputs": [
    {
     "name": "stdout",
     "output_type": "stream",
     "text": [
      "Requirement already satisfied: krwordrank in c:\\users\\naruk\\anaconda3\\lib\\site-packages (1.0.3)\n",
      "Requirement already satisfied: numpy>=1.18.4 in c:\\users\\naruk\\anaconda3\\lib\\site-packages (from krwordrank) (1.19.1)\n",
      "Requirement already satisfied: scikit-learn>=0.22.1 in c:\\users\\naruk\\anaconda3\\lib\\site-packages (from krwordrank) (0.22.1)\n",
      "Requirement already satisfied: scipy>=1.4.1 in c:\\users\\naruk\\anaconda3\\lib\\site-packages (from krwordrank) (1.4.1)\n",
      "Requirement already satisfied: joblib>=0.11 in c:\\users\\naruk\\anaconda3\\lib\\site-packages (from scikit-learn>=0.22.1->krwordrank) (0.14.1)\n",
      "Note: you may need to restart the kernel to use updated packages.\n"
     ]
    }
   ],
   "source": [
    "pip install krwordrank"
   ]
  },
  {
   "cell_type": "code",
   "execution_count": 18,
   "metadata": {},
   "outputs": [],
   "source": [
    "from krwordrank.word import KRWordRank\n",
    "\n",
    "min_count = 1   # 단어의 최소 출현 빈도수 (그래프 생성 시)\n",
    "max_length = 30 # 단어의 최대 길이\n",
    "wordrank_extractor = KRWordRank(min_count=min_count, max_length=max_length)"
   ]
  },
  {
   "cell_type": "code",
   "execution_count": 19,
   "metadata": {},
   "outputs": [],
   "source": [
    "beta = 0.85    # PageRank의 decaying factor beta\n",
    "max_iter = 20\n",
    "texts = ['외계 행성(外界行星) 또는 계외 행성(系外行星)은 태양계 밖의 행성으로, 태양이 아닌 다른 항성 주위를 공전하고 있는 행성이다.',\n",
    "         '지금까지 3800여 개의 외계 행성이 발견되었으며(2018년 6월 23일 기준: 행성계 2840개에서 행성 3796개, 이 중 다중행성계는 632개) 모두 우리 은하 내에 있다.',\n",
    "         '우리 은하에만 수십억 개의 행성이 존재하는 것으로 추측되며[2][3][4] 대부분 항성을 돌고 있으나 일부는 홀로 우주 공간을 움직이는 떠돌이 행성이기도 하다.',\n",
    "         '발견된 외계 행성들 중 지구와 가장 가까운 것은 프록시마 b이다.',\n",
    "         '수 세기에 걸쳐 많은 철학자와 과학자들은 외계 행성이 있으리라고 추측해 왔으나 이들이 얼마나 흔하게 있는지 또는 우리 태양계와 외계 행성계가 얼마나 비슷한지 알 방법이 없었다.',\n",
    "         '19세기부터 외계 행성을 찾았다는 발표가 여러 번 있었으나 천문학자들의 검증 결과 이 모든 주장들은 기각되었다. 1992년 펄서 PSR B1257+12 주위를 도는 암석 행성들의 존재가 최초로 검증, 발표되었다. 주계열성을 도는 행성 중 최초로 확인된 행성은 페가수스자리 51을 4일에 한 바퀴 도는 가스 행성 페가수스자리 51 b이다.',\n",
    "         '관측 기술의 향상 덕분에 이후 외계 행성의 발견 속도는 상승했다.',\n",
    "         '몇몇 외계 행성은 망원경으로 직접 사진을 찍었으나 대다수는 시선 속도와 같은 간접적인 방법으로 발견되었다.',\n",
    "         '확인된 외계 행성 대부분은 목성 또는 해왕성 정도 덩치의 가스 행성으로 추측되나 가스 행성이 외계 행성들 중 대부분을 차지한다는 의미는 아니다.',\n",
    "         '단지 무거운 행성들은 쉽게 눈에 띄기 때문이며 선택 편향의 결과이다.',\n",
    "         '상대적으로 가벼운 지구질량 수 배 정도의 외계 행성들도 많이 발견되었으며 통계적 연구결과 이들 암석형 외계 행성의 수는 가스 행성보다 많은 것으로 보인다.[7] 최근 지구와 비슷하거나 작은 질량의 행성들도 발견되고 있으며 이들 중 일부는 질량 외의 여러 속성이 지구와 비슷한 것도 있다.',\n",
    "         '갈색 왜성을 도는 외계 행성들도 있으며 어떤 항성에도 속박되지 않고 우주를 떠도는 행성도 있다.',\n",
    "         '그러나 이런 특수한 상황에서 천체들에 \\'행성\\' 명칭이 항상 적용되는 것은 아니다.',\n",
    "         '일부 행성은 생명체 거주가능 영역 내를 돌고 있어 표면에 액체 물(또는 생명체)이 존재 가능할 것으로 보이며, 이런 행성들의 발견으로 외계 생명체의 존재 여부에 대한 관심은 증폭되고 있다.',\n",
    "         '외계 행성이 생명체를 품기에 적합한지의 폭넓은 요소들을 고려하는 것을 행성 거주 가능성 연구라고 하며 이는 외계 행성 탐사에 포함된다.'\n",
    "        ]\n",
    "keywords, rank, graph = wordrank_extractor.extract(texts, beta, max_iter)"
   ]
  },
  {
   "cell_type": "code",
   "execution_count": 20,
   "metadata": {},
   "outputs": [
    {
     "name": "stdout",
     "output_type": "stream",
     "text": [
      "      행성:\t15.4882\n",
      "      외계:\t13.9965\n",
      "     것으로:\t5.9114\n",
      "     대부분:\t3.6452\n",
      "     있다.:\t3.5419\n",
      "      또는:\t3.2993\n",
      "     주위를:\t3.2722\n",
      "      발견:\t3.1196\n",
      "      존재:\t3.0951\n",
      "      6월:\t3.0105\n",
      "      가스:\t3.0085\n",
      "    b이다.:\t2.7663\n",
      "      것은:\t2.6664\n",
      "      도는:\t2.6091\n",
      "     태양계:\t2.5933\n",
      "     PSR:\t2.4529\n",
      "      우리:\t2.3654\n",
      "      많은:\t2.2889\n",
      "     얼마나:\t2.2462\n",
      "      이런:\t2.2067\n",
      "     생명체:\t2.1775\n",
      "     지구와:\t2.1156\n",
      "      개의:\t2.0975\n",
      "      최근:\t2.0855\n",
      "      계외:\t2.0798\n",
      "     폭넓은:\t1.9494\n",
      "      51:\t1.9281\n",
      "      이들:\t1.9219\n",
      "      검증:\t1.8810\n",
      "      있는:\t1.8806\n"
     ]
    }
   ],
   "source": [
    "for word, r in sorted(keywords.items(), key=lambda x:x[1], reverse=True)[:30]:\n",
    "        print('%8s:\\t%.4f' % (word, r))"
   ]
  },
  {
   "cell_type": "code",
   "execution_count": null,
   "metadata": {},
   "outputs": [],
   "source": []
  }
 ],
 "metadata": {
  "kernelspec": {
   "display_name": "Python 3",
   "language": "python",
   "name": "python3"
  },
  "language_info": {
   "codemirror_mode": {
    "name": "ipython",
    "version": 3
   },
   "file_extension": ".py",
   "mimetype": "text/x-python",
   "name": "python",
   "nbconvert_exporter": "python",
   "pygments_lexer": "ipython3",
   "version": "3.7.6"
  }
 },
 "nbformat": 4,
 "nbformat_minor": 4
}
