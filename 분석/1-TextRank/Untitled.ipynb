{
 "cells": [
  {
   "cell_type": "code",
   "execution_count": 1,
   "metadata": {},
   "outputs": [
    {
     "name": "stdout",
     "output_type": "stream",
     "text": [
      "Load...\n",
      "Build...\n"
     ]
    },
    {
     "data": {
      "text/plain": [
       "['라온 ',\n",
       " '윤 이수 ',\n",
       " '드라마 ',\n",
       " '병 연 ',\n",
       " '화초 저하 ',\n",
       " '세자 영 ',\n",
       " '김 도령 ',\n",
       " '때 ',\n",
       " '김유정 이영 ',\n",
       " '서브 남 ',\n",
       " '한 사극 ',\n",
       " '여자 주인공 ',\n",
       " '궁 안 ',\n",
       " '작가 ',\n",
       " '남장 여인 ',\n",
       " '효 명세 ',\n",
       " '사랑 이야기 ',\n",
       " '고민 상담 ',\n",
       " '박보검 분이 ',\n",
       " '드라마 ']"
      ]
     },
     "execution_count": 1,
     "metadata": {},
     "output_type": "execute_result"
    }
   ],
   "source": [
    "from Hot_Topic_Analyzer import hot_topic_analyzer\n",
    "\n",
    "hot_topic_analyzer('구르미 그린 달빛')"
   ]
  },
  {
   "cell_type": "code",
   "execution_count": null,
   "metadata": {},
   "outputs": [],
   "source": []
  },
  {
   "cell_type": "code",
   "execution_count": null,
   "metadata": {},
   "outputs": [],
   "source": []
  }
 ],
 "metadata": {
  "kernelspec": {
   "display_name": "Python 3",
   "language": "python",
   "name": "python3"
  },
  "language_info": {
   "codemirror_mode": {
    "name": "ipython",
    "version": 3
   },
   "file_extension": ".py",
   "mimetype": "text/x-python",
   "name": "python",
   "nbconvert_exporter": "python",
   "pygments_lexer": "ipython3",
   "version": "3.7.6"
  }
 },
 "nbformat": 4,
 "nbformat_minor": 4
}
