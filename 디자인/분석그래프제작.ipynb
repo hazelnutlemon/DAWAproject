{
 "cells": [
  {
   "cell_type": "code",
   "execution_count": 1,
   "metadata": {},
   "outputs": [
    {
     "data": {
      "image/png": "[encoded data removed]",
      "text/plain": [
       "<Figure size 432x288 with 1 Axes>"
      ]
     },
     "metadata": {
      "needs_background": "light"
     },
     "output_type": "display_data"
    }
   ],
   "source": [
    "import matplotlib.pyplot as plt\n",
    "import numpy as np\n",
    "import warnings\n",
    "import matplotlib\n",
    "import pymysql.cursors\n",
    "import pandas as pd\n",
    "\n",
    "# DB 내 작품 정보 가져오기\n",
    "conn = pymysql.connect(\n",
    "    host='127.0.0.1',\n",
    "    port=3306,\n",
    "    user='root',\n",
    "    passwd='root',\n",
    "    db='webnoveldb',\n",
    "    charset='utf8')\n",
    "\n",
    "curs = conn.cursor()\n",
    "sql = \"SELECT * FROM review where novel = 5\" # idnovel 수정하여 해당 작품으로 변경\n",
    "curs.execute(sql)\n",
    "\n",
    "result = curs.fetchall()\n",
    "df=pd.DataFrame(result, columns=[\"novel\", \"term\", \"score\"])\n",
    "\n",
    "sql = \"select term, avg(score) from review where score!=0 group by term order by term\"\n",
    "curs.execute(sql)\n",
    "\n",
    "result = curs.fetchall()\n",
    "df2=pd.DataFrame(result, columns=[\"term\", \"score\"])\n",
    "df2\n",
    "\n",
    "# 한글 출력 설정\n",
    "matplotlib.rcParams['axes.unicode_minus'] = False\n",
    "plt.rcParams[\"font.family\"] = 'Malgun Gothic'\n",
    "# 경고문 출력 X\n",
    "warnings.filterwarnings('ignore')\n",
    "flg2 = plt.figure() # 차트 플롯 생성\n",
    "chart = flg2.add_subplot(1, 1, 1) # 행, 열, 위치\n",
    "\n",
    "# data 생성\n",
    "data1 = df.score.tolist()\n",
    "data2 = df2.score.tolist()\n",
    "\n",
    "# 계단형 차트\n",
    "#chart.plot(data1, label='2020년도 점수', drawstyle='default', color='thistle') # 선그래프로 출력\n",
    "df.score.plot.bar(label='2020년도 점수', color='#8977ad')    # bar(수직막대) - color에서 색깔 조정\n",
    "\n",
    "# 선 스타일 차트\n",
    "chart.plot(data2, drawstyle='default',label='평균', color='darkviolet') # 평균 - color에서 색깔 조정\n",
    "\n",
    "plt.title(\"내 안에 마교있다\") # 차트 제목 - 작품 제목 넣어주기\n",
    "plt.xlabel('기간') # x축\n",
    "plt.xticks(np.arange(0, 10), labels=['01', '02', '03', '04', '05', '06', '07', '08', '09', '10'])\n",
    "\n",
    "plt.ylabel('점수') # y축\n",
    "plt.ylim([0, 100]) # Y축의 범위: [ymin, ymax]\n",
    "#plt.axhline(y=47.71400000000001, color='purple', linewidth=1, label=\"전체 작품 점수 평균\") # 일직선\n",
    "plt.legend(loc='best') # 범례\n",
    "\n",
    "#plt.show()\n",
    "plt.savefig('result.png') # 이미지 png로 저장"
   ]
  }
 ],
 "metadata": {
  "kernelspec": {
   "display_name": "Python 3",
   "language": "python",
   "name": "python3"
  },
  "language_info": {
   "codemirror_mode": {
    "name": "ipython",
    "version": 3
   },
   "file_extension": ".py",
   "mimetype": "text/x-python",
   "name": "python",
   "nbconvert_exporter": "python",
   "pygments_lexer": "ipython3",
   "version": "3.7.9"
  }
 },
 "nbformat": 4,
 "nbformat_minor": 2
}
